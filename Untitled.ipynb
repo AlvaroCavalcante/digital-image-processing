{
 "cells": [
  {
   "cell_type": "markdown",
   "metadata": {},
   "source": [
    "# Processamento de Imagens Digitais \n",
    "## Dept. de Estatística, Mat. Aplicada e Computação (DEMAC)\n",
    "#### Prof. Dr. Daniel Carlos Guimarães Pedronette"
   ]
  },
  {
   "cell_type": "markdown",
   "metadata": {},
   "source": [
    "Relatório da lista de exercícios N° 1\n",
    "-------------------------------\n",
    "**Nome:** Álvaro Leandro Cavalcante Carneiro \n",
    "\n",
    "\n",
    "**Linguagem utilizada:** Python 3.6\n",
    "\n"
   ]
  },
  {
   "cell_type": "markdown",
   "metadata": {},
   "source": [
    "## Importando as bibliotecas \n",
    "Importando as bibliotecas que serão utilizadas para desenvolver as atividades."
   ]
  },
  {
   "cell_type": "code",
   "execution_count": 5,
   "metadata": {},
   "outputs": [],
   "source": [
    "import numpy as np\n",
    "import matplotlib.pyplot as plt\n",
    "import cv2\n",
    "from PIL import Image"
   ]
  },
  {
   "cell_type": "markdown",
   "metadata": {},
   "source": [
    "## Carregamento das imagens\n",
    "As imagens utilizadas no exercício serão da base de dados MPEG-7, conforme sugerido. Os valores serão normalizados entre 0 e 1. A convenção do conjunto de imagens é utilizar o valor 1 para o objeto de interesse (branco) e 0 para o background (preto)."
   ]
  },
  {
   "cell_type": "code",
   "execution_count": 6,
   "metadata": {
    "scrolled": true
   },
   "outputs": [
    {
     "data": {
      "text/plain": [
       "<matplotlib.image.AxesImage at 0x7fe2974580b8>"
      ]
     },
     "execution_count": 6,
     "metadata": {},
     "output_type": "execute_result"
    },
    {
     "data": {
      "image/png": "[encoded data removed]",
      "text/plain": [
       "<Figure size 432x288 with 1 Axes>"
      ]
     },
     "metadata": {
      "needs_background": "light"
     },
     "output_type": "display_data"
    }
   ],
   "source": [
    "img = np.array(Image.open('/home/alvaro/Downloads/original/bat-8.gif'))\n",
    "img = np.where(img==255, 1, img)\n",
    "plt.imshow(img, cmap='gray') "
   ]
  },
  {
   "cell_type": "markdown",
   "metadata": {},
   "source": [
    "## Aplicando as operações morfológicas\n",
    "O primeiro passo para aplicação das operações morfológicas é capturar o conjunto de pixels que possui algum valor, uma vez que esse conjunto será utilizado nas operações futuras. Para isso, foi criado o método *map_coordinates*."
   ]
  },
  {
   "cell_type": "code",
   "execution_count": null,
   "metadata": {},
   "outputs": [],
   "source": [
    "def map_coordinates(img):\n",
    "    coords = []\n",
    "    for col in range(img.shape[0]):\n",
    "        for line in range(img.shape[1]):    \n",
    "            if img[col][line] == 1:\n",
    "                coords.append((col, line)) \n",
    "    \n",
    "    return coords"
   ]
  }
 ],
 "metadata": {
  "kernelspec": {
   "display_name": "Python 3.6.9 64-bit",
   "language": "python",
   "name": "python36964bitf04b3f48ea3e4c6baa0bccb81b5508de"
  },
  "language_info": {
   "codemirror_mode": {
    "name": "ipython",
    "version": 3
   },
   "file_extension": ".py",
   "mimetype": "text/x-python",
   "name": "python",
   "nbconvert_exporter": "python",
   "pygments_lexer": "ipython3",
   "version": "3.6.9"
  }
 },
 "nbformat": 4,
 "nbformat_minor": 4
}
